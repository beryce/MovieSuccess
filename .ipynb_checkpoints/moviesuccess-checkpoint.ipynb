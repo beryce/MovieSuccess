{
 "cells": [
  {
   "cell_type": "code",
   "execution_count": 3,
   "metadata": {
    "collapsed": false,
    "deletable": true,
    "editable": true
   },
   "outputs": [
    {
     "ename": "ValueError",
     "evalue": "Some errors were detected !\n    Line #19 (got 15 columns instead of 14)\n    Line #72 (got 15 columns instead of 14)\n    Line #134 (got 15 columns instead of 14)\n    Line #135 (got 15 columns instead of 14)\n    Line #167 (got 15 columns instead of 14)\n    Line #191 (got 15 columns instead of 14)\n    Line #202 (got 15 columns instead of 14)\n    Line #324 (got 15 columns instead of 14)\n    Line #331 (got 16 columns instead of 14)\n    Line #336 (got 15 columns instead of 14)\n    Line #342 (got 15 columns instead of 14)\n    Line #343 (got 16 columns instead of 14)\n    Line #367 (got 15 columns instead of 14)\n    Line #375 (got 15 columns instead of 14)\n    Line #463 (got 15 columns instead of 14)\n    Line #586 (got 15 columns instead of 14)\n    Line #648 (got 15 columns instead of 14)\n    Line #666 (got 15 columns instead of 14)\n    Line #721 (got 15 columns instead of 14)\n    Line #835 (got 15 columns instead of 14)\n    Line #849 (got 15 columns instead of 14)\n    Line #900 (got 15 columns instead of 14)\n    Line #951 (got 15 columns instead of 14)\n    Line #965 (got 15 columns instead of 14)\n    Line #1068 (got 15 columns instead of 14)\n    Line #1083 (got 15 columns instead of 14)\n    Line #1184 (got 15 columns instead of 14)\n    Line #1209 (got 15 columns instead of 14)\n    Line #1314 (got 15 columns instead of 14)\n    Line #1345 (got 15 columns instead of 14)\n    Line #1358 (got 15 columns instead of 14)\n    Line #1371 (got 15 columns instead of 14)\n    Line #1373 (got 15 columns instead of 14)\n    Line #1413 (got 15 columns instead of 14)\n    Line #1431 (got 15 columns instead of 14)\n    Line #1437 (got 15 columns instead of 14)\n    Line #1452 (got 15 columns instead of 14)\n    Line #1463 (got 15 columns instead of 14)\n    Line #1517 (got 15 columns instead of 14)\n    Line #1557 (got 15 columns instead of 14)\n    Line #1686 (got 15 columns instead of 14)\n    Line #1801 (got 15 columns instead of 14)\n    Line #1835 (got 15 columns instead of 14)\n    Line #1914 (got 15 columns instead of 14)\n    Line #1963 (got 15 columns instead of 14)\n    Line #2164 (got 16 columns instead of 14)\n    Line #2257 (got 15 columns instead of 14)\n    Line #2278 (got 15 columns instead of 14)\n    Line #2285 (got 15 columns instead of 14)\n    Line #2309 (got 15 columns instead of 14)\n    Line #2337 (got 15 columns instead of 14)\n    Line #2376 (got 15 columns instead of 14)\n    Line #2509 (got 16 columns instead of 14)\n    Line #2987 (got 15 columns instead of 14)",
     "output_type": "error",
     "traceback": [
      "\u001b[0;31m---------------------------------------------------------------------------\u001b[0m",
      "\u001b[0;31mValueError\u001b[0m                                Traceback (most recent call last)",
      "\u001b[0;32m<ipython-input-3-d7318fe7bf9b>\u001b[0m in \u001b[0;36m<module>\u001b[0;34m()\u001b[0m\n\u001b[1;32m      3\u001b[0m     \u001b[0mdata\u001b[0m \u001b[0;34m=\u001b[0m \u001b[0mnp\u001b[0m\u001b[0;34m.\u001b[0m\u001b[0mgenfromtxt\u001b[0m\u001b[0;34m(\u001b[0m\u001b[0mfile\u001b[0m\u001b[0;34m,\u001b[0m \u001b[0mdelimiter\u001b[0m \u001b[0;34m=\u001b[0m \u001b[0;34m','\u001b[0m\u001b[0;34m,\u001b[0m \u001b[0mskip_header\u001b[0m \u001b[0;34m=\u001b[0m \u001b[0;36m1\u001b[0m\u001b[0;34m,\u001b[0m \u001b[0mdtype\u001b[0m \u001b[0;34m=\u001b[0m \u001b[0;32mNone\u001b[0m\u001b[0;34m)\u001b[0m\u001b[0;34m\u001b[0m\u001b[0m\n\u001b[1;32m      4\u001b[0m     \u001b[0;32mreturn\u001b[0m \u001b[0mdata\u001b[0m\u001b[0;34m\u001b[0m\u001b[0m\n\u001b[0;32m----> 5\u001b[0;31m \u001b[0mdata\u001b[0m \u001b[0;34m=\u001b[0m \u001b[0mload\u001b[0m\u001b[0;34m(\u001b[0m\u001b[0;34m'movies.csv'\u001b[0m\u001b[0;34m)\u001b[0m\u001b[0;34m\u001b[0m\u001b[0m\n\u001b[0m",
      "\u001b[0;32m<ipython-input-3-d7318fe7bf9b>\u001b[0m in \u001b[0;36mload\u001b[0;34m(file)\u001b[0m\n\u001b[1;32m      1\u001b[0m \u001b[0;32mimport\u001b[0m \u001b[0mnumpy\u001b[0m \u001b[0;32mas\u001b[0m \u001b[0mnp\u001b[0m\u001b[0;34m\u001b[0m\u001b[0m\n\u001b[1;32m      2\u001b[0m \u001b[0;32mdef\u001b[0m \u001b[0mload\u001b[0m\u001b[0;34m(\u001b[0m\u001b[0mfile\u001b[0m\u001b[0;34m)\u001b[0m\u001b[0;34m:\u001b[0m\u001b[0;34m\u001b[0m\u001b[0m\n\u001b[0;32m----> 3\u001b[0;31m     \u001b[0mdata\u001b[0m \u001b[0;34m=\u001b[0m \u001b[0mnp\u001b[0m\u001b[0;34m.\u001b[0m\u001b[0mgenfromtxt\u001b[0m\u001b[0;34m(\u001b[0m\u001b[0mfile\u001b[0m\u001b[0;34m,\u001b[0m \u001b[0mdelimiter\u001b[0m \u001b[0;34m=\u001b[0m \u001b[0;34m','\u001b[0m\u001b[0;34m,\u001b[0m \u001b[0mskip_header\u001b[0m \u001b[0;34m=\u001b[0m \u001b[0;36m1\u001b[0m\u001b[0;34m,\u001b[0m \u001b[0mdtype\u001b[0m \u001b[0;34m=\u001b[0m \u001b[0;32mNone\u001b[0m\u001b[0;34m)\u001b[0m\u001b[0;34m\u001b[0m\u001b[0m\n\u001b[0m\u001b[1;32m      4\u001b[0m     \u001b[0;32mreturn\u001b[0m \u001b[0mdata\u001b[0m\u001b[0;34m\u001b[0m\u001b[0m\n\u001b[1;32m      5\u001b[0m \u001b[0mdata\u001b[0m \u001b[0;34m=\u001b[0m \u001b[0mload\u001b[0m\u001b[0;34m(\u001b[0m\u001b[0;34m'movies.csv'\u001b[0m\u001b[0;34m)\u001b[0m\u001b[0;34m\u001b[0m\u001b[0m\n",
      "\u001b[0;32m/Users/bgarcia/Library/Enthought/Canopy/edm/envs/User/lib/python3.5/site-packages/numpy/lib/npyio.py\u001b[0m in \u001b[0;36mgenfromtxt\u001b[0;34m(fname, dtype, comments, delimiter, skip_header, skip_footer, converters, missing_values, filling_values, usecols, names, excludelist, deletechars, replace_space, autostrip, case_sensitive, defaultfmt, unpack, usemask, loose, invalid_raise, max_rows)\u001b[0m\n\u001b[1;32m   1865\u001b[0m             \u001b[0;31m# Raise an exception ?\u001b[0m\u001b[0;34m\u001b[0m\u001b[0;34m\u001b[0m\u001b[0m\n\u001b[1;32m   1866\u001b[0m             \u001b[0;32mif\u001b[0m \u001b[0minvalid_raise\u001b[0m\u001b[0;34m:\u001b[0m\u001b[0;34m\u001b[0m\u001b[0m\n\u001b[0;32m-> 1867\u001b[0;31m                 \u001b[0;32mraise\u001b[0m \u001b[0mValueError\u001b[0m\u001b[0;34m(\u001b[0m\u001b[0merrmsg\u001b[0m\u001b[0;34m)\u001b[0m\u001b[0;34m\u001b[0m\u001b[0m\n\u001b[0m\u001b[1;32m   1868\u001b[0m             \u001b[0;31m# Issue a warning ?\u001b[0m\u001b[0;34m\u001b[0m\u001b[0;34m\u001b[0m\u001b[0m\n\u001b[1;32m   1869\u001b[0m             \u001b[0;32melse\u001b[0m\u001b[0;34m:\u001b[0m\u001b[0;34m\u001b[0m\u001b[0m\n",
      "\u001b[0;31mValueError\u001b[0m: Some errors were detected !\n    Line #19 (got 15 columns instead of 14)\n    Line #72 (got 15 columns instead of 14)\n    Line #134 (got 15 columns instead of 14)\n    Line #135 (got 15 columns instead of 14)\n    Line #167 (got 15 columns instead of 14)\n    Line #191 (got 15 columns instead of 14)\n    Line #202 (got 15 columns instead of 14)\n    Line #324 (got 15 columns instead of 14)\n    Line #331 (got 16 columns instead of 14)\n    Line #336 (got 15 columns instead of 14)\n    Line #342 (got 15 columns instead of 14)\n    Line #343 (got 16 columns instead of 14)\n    Line #367 (got 15 columns instead of 14)\n    Line #375 (got 15 columns instead of 14)\n    Line #463 (got 15 columns instead of 14)\n    Line #586 (got 15 columns instead of 14)\n    Line #648 (got 15 columns instead of 14)\n    Line #666 (got 15 columns instead of 14)\n    Line #721 (got 15 columns instead of 14)\n    Line #835 (got 15 columns instead of 14)\n    Line #849 (got 15 columns instead of 14)\n    Line #900 (got 15 columns instead of 14)\n    Line #951 (got 15 columns instead of 14)\n    Line #965 (got 15 columns instead of 14)\n    Line #1068 (got 15 columns instead of 14)\n    Line #1083 (got 15 columns instead of 14)\n    Line #1184 (got 15 columns instead of 14)\n    Line #1209 (got 15 columns instead of 14)\n    Line #1314 (got 15 columns instead of 14)\n    Line #1345 (got 15 columns instead of 14)\n    Line #1358 (got 15 columns instead of 14)\n    Line #1371 (got 15 columns instead of 14)\n    Line #1373 (got 15 columns instead of 14)\n    Line #1413 (got 15 columns instead of 14)\n    Line #1431 (got 15 columns instead of 14)\n    Line #1437 (got 15 columns instead of 14)\n    Line #1452 (got 15 columns instead of 14)\n    Line #1463 (got 15 columns instead of 14)\n    Line #1517 (got 15 columns instead of 14)\n    Line #1557 (got 15 columns instead of 14)\n    Line #1686 (got 15 columns instead of 14)\n    Line #1801 (got 15 columns instead of 14)\n    Line #1835 (got 15 columns instead of 14)\n    Line #1914 (got 15 columns instead of 14)\n    Line #1963 (got 15 columns instead of 14)\n    Line #2164 (got 16 columns instead of 14)\n    Line #2257 (got 15 columns instead of 14)\n    Line #2278 (got 15 columns instead of 14)\n    Line #2285 (got 15 columns instead of 14)\n    Line #2309 (got 15 columns instead of 14)\n    Line #2337 (got 15 columns instead of 14)\n    Line #2376 (got 15 columns instead of 14)\n    Line #2509 (got 16 columns instead of 14)\n    Line #2987 (got 15 columns instead of 14)"
     ]
    }
   ],
   "source": [
    "import numpy as np\n",
    "def load(file):\n",
    "    data = np.loadtxt(file, delimiter = ',', skip_header = 1, dtype = None)\n",
    "    return data\n",
    "data = load('movies.csv')\n"
   ]
  },
  {
   "cell_type": "code",
   "execution_count": null,
   "metadata": {
    "collapsed": true
   },
   "outputs": [],
   "source": []
  }
 ],
 "metadata": {
  "kernelspec": {
   "display_name": "Python 3",
   "language": "python",
   "name": "python3"
  },
  "language_info": {
   "codemirror_mode": {
    "name": "ipython",
    "version": 3
   },
   "file_extension": ".py",
   "mimetype": "text/x-python",
   "name": "python",
   "nbconvert_exporter": "python",
   "pygments_lexer": "ipython3",
   "version": "3.5.2"
  }
 },
 "nbformat": 4,
 "nbformat_minor": 2
}
